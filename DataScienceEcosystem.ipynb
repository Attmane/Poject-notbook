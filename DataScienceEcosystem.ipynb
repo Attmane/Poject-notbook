{
 "cells": [
  {
   "cell_type": "markdown",
   "id": "990e45e6-e766-45e2-9d9f-3630be751853",
   "metadata": {},
   "source": [
    "# Data Science Tools and Ecosystem #"
   ]
  },
  {
   "cell_type": "code",
   "execution_count": 2,
   "id": "fb52d27d-fd54-45f7-b5f4-cd4909e8be8b",
   "metadata": {},
   "outputs": [
    {
     "name": "stdout",
     "output_type": "stream",
     "text": [
      "In this notebook, Data Science Tools and Ecosystem are summarized.\n"
     ]
    }
   ],
   "source": [
    "print (\"In this notebook, Data Science Tools and Ecosystem are summarized.\")"
   ]
  }
 ],
 "metadata": {
  "kernelspec": {
   "display_name": "Python 3 (ipykernel)",
   "language": "python",
   "name": "python3"
  },
  "language_info": {
   "codemirror_mode": {
    "name": "ipython",
    "version": 3
   },
   "file_extension": ".py",
   "mimetype": "text/x-python",
   "name": "python",
   "nbconvert_exporter": "python",
   "pygments_lexer": "ipython3",
   "version": "3.11.7"
  }
 },
 "nbformat": 4,
 "nbformat_minor": 5
}
